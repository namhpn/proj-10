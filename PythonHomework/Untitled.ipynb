{
 "cells": [
  {
   "cell_type": "code",
   "execution_count": 14,
   "metadata": {},
   "outputs": [
    {
     "name": "stdout",
     "output_type": "stream",
     "text": [
      "You are OVERWEIGHT\n"
     ]
    }
   ],
   "source": [
    "def bmi(weight, height, age):\n",
    "    if (age >= 16):\n",
    "        bmii = float(weight/((height/100)**2))\n",
    "        if bmii < 18.5:\n",
    "            return print('You are UNDERWEIGHT !')\n",
    "        elif bmii >= 18.5 and bmii < 25:\n",
    "            return print('You are NORMAL !')\n",
    "        elif bmii >= 25 and bmii < 30:\n",
    "            return print('You are OVERWEIGHT')\n",
    "        else:\n",
    "            return print('You are OBESE')\n",
    "    else:\n",
    "        return print('Can\\'t display BMI due to AGE < 16')\n",
    "\n",
    "w = float(input(\"Your weight (KG): \"))\n",
    "h = float(input(\"Your height (CM): \"))\n",
    "a = int(input(\"Your age: \"))\n",
    "bmi(w,h,a)"
   ]
  },
  {
   "cell_type": "code",
   "execution_count": 15,
   "id": "c9155cb4",
   "metadata": {},
   "outputs": [
    {
     "name": "stdout",
     "output_type": "stream",
     "text": [
      "Total =  47.0\n"
     ]
    }
   ],
   "source": [
    "def total():\n",
    "    t = 0\n",
    "    n = 0\n",
    "    while(n >= 0):\n",
    "        n = float(input('Enter a positive number (negative to quit): '))\n",
    "        t += n\n",
    "    return t\n",
    "\n",
    "print('Total = ',total())"
   ]
  },
  {
   "cell_type": "code",
   "execution_count": 24,
   "id": "a54e351f",
   "metadata": {},
   "outputs": [
    {
     "name": "stdout",
     "output_type": "stream",
     "text": [
      "dkkubcvjvcbjxnatdxkn"
     ]
    }
   ],
   "source": [
    "import random\n",
    "\n",
    "def createword(n):\n",
    "    for i in range(0,n):\n",
    "        print(chr(random.randint(ord('a'),ord('z'))),end = '')\n",
    "\n",
    "n = int(input('Enter a positive number (1 < n < 20): '))\n",
    "while(n < 1 or n > 20):\n",
    "    n = int(input('Wrong input! Enter a positive number (1 < n < 20): '))\n",
    "createword(n)"
   ]
  }
 ],
 "metadata": {
  "kernelspec": {
   "display_name": "Python 3",
   "language": "python",
   "name": "python3"
  },
  "language_info": {
   "codemirror_mode": {
    "name": "ipython",
    "version": 3
   },
   "file_extension": ".py",
   "mimetype": "text/x-python",
   "name": "python",
   "nbconvert_exporter": "python",
   "pygments_lexer": "ipython3",
   "version": "3.11.5"
  }
 },
 "nbformat": 4,
 "nbformat_minor": 5
}
